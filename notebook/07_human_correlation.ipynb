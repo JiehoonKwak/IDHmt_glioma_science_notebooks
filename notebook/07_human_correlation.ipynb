{
 "cells": [
  {
   "cell_type": "markdown",
   "metadata": {},
   "source": [
    "- Extended figure 16"
   ]
  },
  {
   "cell_type": "markdown",
   "metadata": {},
   "source": [
    "# 1. Pseudobulk & Correlation Analysis\n",
    "- Extended figure 16\n",
    "- select 5000 genes vs full - 나중에 지우기"
   ]
  },
  {
   "cell_type": "code",
   "execution_count": null,
   "metadata": {},
   "outputs": [],
   "source": [
    "import os\n",
    "import warnings\n",
    "warnings.filterwarnings('ignore')\n",
    "\n",
    "import scanpy as sc\n",
    "import pandas as pd\n",
    "import numpy as np\n",
    "import anndata as ad\n",
    "\n",
    "import mplscience\n",
    "import seaborn as sns\n",
    "import matplotlib.pyplot as plt\n",
    "from scipy import sparse\n",
    "from sklearn.utils import check_random_state\n",
    "from sklearn.metrics import pairwise_distances\n",
    "# from mousipy import translate\n",
    "\n",
    "data_path = '../public/'\n",
    "marker_path = '../markers/'\n",
    "plot_path = '../plot/'\n",
    "output_path = '../output/'\n",
    "pb_path = '../public/pseudobulk/'\n",
    "tr_path = '../public/translated/'\n",
    "\n",
    "seed = 777"
   ]
  },
  {
   "cell_type": "markdown",
   "metadata": {},
   "source": [
    "- code from : https://www.sc-best-practices.org/conditions/gsea_pathway.html"
   ]
  },
  {
   "cell_type": "code",
   "execution_count": 2,
   "metadata": {},
   "outputs": [],
   "source": [
    "def subsampled_summation(adata, groupby, keep,  *, n_samples_per_group = 3, n_cells = 50, random_state=777, layer: str = None):\n",
    "    random_state = check_random_state(random_state)\n",
    "    indices = []\n",
    "    labels = []\n",
    "\n",
    "    grouped = adata.obs.groupby(groupby)\n",
    "    for k, inds in grouped.indices.items():\n",
    "        if len(inds) < (n_cells * n_samples_per_group):\n",
    "            continue\n",
    "\n",
    "        condition_inds = random_state.choice(\n",
    "            inds, n_cells * n_samples_per_group, replace=False\n",
    "        )\n",
    "        for i, sample_condition_inds in enumerate(np.split(condition_inds, n_samples_per_group)):\n",
    "            if isinstance(k, tuple):\n",
    "                labels.append((*k, i))\n",
    "            else:  \n",
    "                labels.append((k, i))\n",
    "            indices.append(sample_condition_inds)\n",
    "\n",
    "    new_obs = pd.DataFrame.from_records(\n",
    "        labels,\n",
    "        columns=[*groupby, \"sample\"],\n",
    "        index=[\"-\".join(map(str, l)) for l in labels],\n",
    "    )\n",
    "    n_out = len(labels)\n",
    "\n",
    "    indptr = np.arange(0, (n_out + 1) * n_cells, n_cells)\n",
    "    indicator = sparse.csr_matrix(\n",
    "        (\n",
    "            np.ones(n_out * n_cells, dtype=bool),\n",
    "            np.concatenate(indices),\n",
    "            indptr,\n",
    "        ),\n",
    "        shape=(len(labels), adata.n_obs),\n",
    "    )\n",
    "\n",
    "    \n",
    "    new_adata = ad.AnnData(\n",
    "        X=indicator @ sc.get._get_obs_rep(adata, layer=layer),\n",
    "        obs=new_obs,\n",
    "        var=adata.var.copy(),\n",
    "    )\n",
    "    del new_adata.var\n",
    "\n",
    "    if isinstance(keep, str):\n",
    "        keep = [keep]\n",
    "    for k in keep:\n",
    "        new_adata.obs[k] = [adata.obs[k].iloc[inds].mode().iloc[0] for inds in indices]\n",
    "\n",
    "    return new_adata"
   ]
  },
  {
   "cell_type": "markdown",
   "metadata": {},
   "source": [
    "## 1. Create pseudobulk data and save"
   ]
  },
  {
   "cell_type": "markdown",
   "metadata": {},
   "source": [
    "- astrocytoma"
   ]
  },
  {
   "cell_type": "code",
   "execution_count": null,
   "metadata": {},
   "outputs": [],
   "source": [
    "astrocytoma = sc.read_h5ad(os.path.join(data_path, 'human_astrocytoma.h5ad'))\n",
    "astrocytoma = astrocytoma.raw.to_adata()\n",
    "adata = translate(astrocytoma)\n",
    "adata = adata[:,~adata.var['original_gene_symbol'].isna()]\n",
    "adata.layers['counts'] = adata.X.copy()\n",
    "subset = adata[adata.obs['New_NMF_labelling'].isin(['Astro-like', 'Cycling-like', 'Gradient', 'Mixed', 'OPC-like', 'RA'])].copy()"
   ]
  },
  {
   "cell_type": "code",
   "execution_count": 23,
   "metadata": {},
   "outputs": [],
   "source": [
    "sc.pp.filter_genes(subset, int(subset.shape[0] * 0.1))\n",
    "sc.pp.normalize_total(subset)\n",
    "sc.pp.log1p(subset)\n",
    "sc.pp.highly_variable_genes(subset, n_top_genes=5000, batch_key='orig.ident', subset=True)"
   ]
  },
  {
   "cell_type": "code",
   "execution_count": null,
   "metadata": {},
   "outputs": [],
   "source": [
    "pb_a = subsampled_summation(subset, ['orig.ident'], keep=[\"New_NMF_labelling\"], n_samples_per_group=2, n_cells=100, random_state=seed, layer='counts')\n",
    "pb_a.write(os.path.join(pb_path, 'astrocytoma.h5ad'))"
   ]
  },
  {
   "cell_type": "markdown",
   "metadata": {},
   "source": [
    "- oligodendroglioma"
   ]
  },
  {
   "cell_type": "code",
   "execution_count": null,
   "metadata": {},
   "outputs": [],
   "source": [
    "oligodendroma = sc.read_h5ad(os.path.join(data_path, 'human_oligodendroma.h5ad'))\n",
    "oligodendroma = oligodendroma.raw.to_adata()\n",
    "adata = translate(oligodendroma)\n",
    "adata = adata[:,~adata.var['original_gene_symbol'].isna()]\n",
    "adata.layers['counts'] = adata.X.copy()\n",
    "subset = adata[adata.obs['New_NMF_labelling'].isin(['Astro-like', 'Cycling-like', 'Gradient', 'Mixed', 'OPC-like', 'RA'])].copy()"
   ]
  },
  {
   "cell_type": "code",
   "execution_count": null,
   "metadata": {},
   "outputs": [],
   "source": [
    "sc.pp.filter_genes(subset, int(subset.shape[0] * 0.1))\n",
    "sc.pp.normalize_total(subset)\n",
    "sc.pp.log1p(subset)\n",
    "sc.pp.highly_variable_genes(subset, n_top_genes=5000, batch_key='orig.ident', subset=True)"
   ]
  },
  {
   "cell_type": "code",
   "execution_count": null,
   "metadata": {},
   "outputs": [],
   "source": [
    "pb_o = subsampled_summation(subset, ['orig.ident'], keep=[\"New_NMF_labelling\"], n_samples_per_group=2, n_cells=100, random_state=seed, layer='counts')\n",
    "pb_o.write(os.path.join(pb_path, 'oligodendroma.h5ad'))"
   ]
  },
  {
   "cell_type": "markdown",
   "metadata": {},
   "source": [
    "- gbm"
   ]
  },
  {
   "cell_type": "code",
   "execution_count": null,
   "metadata": {},
   "outputs": [],
   "source": [
    "gbm = sc.read_h5ad(os.path.join(output_path, 'coreGBmap_homologue.h5ad'))\n",
    "cellid = pd.read_csv(os.path.join(output_path, 'CellID.csv'), index_col=0)\n",
    "gbm.obs['cell_type'] = cellid.loc[gbm.obs_names, 'CellID']\n",
    "subset = gbm[gbm.obs['cell_type'].isin(['MES-like',\n",
    " 'OPC-like',\n",
    " 'AC-like',\n",
    " 'NPC-like',\n",
    "])].copy()"
   ]
  },
  {
   "cell_type": "code",
   "execution_count": 31,
   "metadata": {},
   "outputs": [],
   "source": [
    "sc.pp.filter_genes(subset, int(subset.shape[0] * 0.1))\n",
    "sc.pp.normalize_total(subset)\n",
    "sc.pp.log1p(subset)\n",
    "sc.pp.highly_variable_genes(subset, n_top_genes=5000, batch_key = 'author', subset=True)"
   ]
  },
  {
   "cell_type": "code",
   "execution_count": null,
   "metadata": {},
   "outputs": [],
   "source": [
    "pb_g = subsampled_summation(subset, ['author'], keep=[\"cell_type\"], n_samples_per_group=1, n_cells=100, random_state=seed, layer='counts')\n",
    "pb_g.write(os.path.join(pb_path, 'gbm.h5ad'))"
   ]
  },
  {
   "cell_type": "markdown",
   "metadata": {},
   "source": [
    "- mouse"
   ]
  },
  {
   "cell_type": "code",
   "execution_count": 33,
   "metadata": {},
   "outputs": [],
   "source": [
    "adata = sc.read_h5ad(os.path.join(output_path, 'annotated_subcluster_embedding.h5ad'))\n",
    "adata = adata.raw.to_adata()\n",
    "adata.layers['counts'] = adata.X.copy()\n",
    "subset = adata[adata.obs.cell_type == \"Tumor\"].copy()"
   ]
  },
  {
   "cell_type": "code",
   "execution_count": null,
   "metadata": {},
   "outputs": [],
   "source": [
    "sc.pp.filter_genes(subset, int(subset.shape[0] * 0.1))\n",
    "sc.pp.normalize_total(subset)\n",
    "sc.pp.log1p(subset)\n",
    "sc.pp.highly_variable_genes(subset, n_top_genes=5000, batch_key = 'sample_id', subset=True)"
   ]
  },
  {
   "cell_type": "code",
   "execution_count": 35,
   "metadata": {},
   "outputs": [],
   "source": [
    "pb_m = subsampled_summation(subset, ['sample_id'], keep = 'cell_type', n_samples_per_group=3, n_cells = 100, random_state=seed, layer='counts')\n",
    "pb_m.write(os.path.join(pb_path, 'mouse_full.h5ad'))"
   ]
  },
  {
   "cell_type": "markdown",
   "metadata": {},
   "source": [
    "## 2.Load Data"
   ]
  },
  {
   "cell_type": "code",
   "execution_count": null,
   "metadata": {},
   "outputs": [],
   "source": [
    "adatas = []\n",
    "for f in os.listdir(pb_path):\n",
    "    adata = sc.read_h5ad(os.path.join(pb_path, f))\n",
    "    adata.obs['tumor_type'] = f.split('.')[0]\n",
    "        adata.obs['cell_type'] = adata.obs['New_NMF_labelling']\n",
    "    adatas.append(adata)"
   ]
  },
  {
   "cell_type": "code",
   "execution_count": 38,
   "metadata": {},
   "outputs": [],
   "source": [
    "# gbm, astrocytoma, mouse, oligodendroma\n",
    "adatas[0].obs['type'] = [f'Glioblastoma{i}' for i in range(1, len(adatas[0])+1)]\n",
    "adatas[1].obs['type'] = [f'Astrocytoma{i}' for i in range(1, len(adatas[1])+1)]\n",
    "adatas[2].obs['type'] = [f'Mouse Model{i}' for i in range(1, len(adatas[2])+1)]\n",
    "adatas[3].obs['type'] = [f'Oligodendroglioma{i}' for i in range(1, len(adatas[3])+1)]\n",
    "adata = sc.concat(adatas)"
   ]
  },
  {
   "cell_type": "code",
   "execution_count": 40,
   "metadata": {},
   "outputs": [],
   "source": [
    "sc.pp.normalize_total(adata)\n",
    "sc.pp.log1p(adata)"
   ]
  },
  {
   "cell_type": "markdown",
   "metadata": {},
   "source": [
    "## 3. Calculate dist"
   ]
  },
  {
   "cell_type": "code",
   "execution_count": 41,
   "metadata": {},
   "outputs": [],
   "source": [
    "dist_matrix = pd.DataFrame(pairwise_distances(adata.X.toarray(), metric=\"correlation\"), index = adata.obs.type, columns = adata.obs.type)\n",
    "corr_mtx = 1 - dist_matrix "
   ]
  },
  {
   "cell_type": "code",
   "execution_count": null,
   "metadata": {},
   "outputs": [
    {
     "name": "stderr",
     "output_type": "stream",
     "text": [
      "1 extra bytes in post.stringData array\n",
      "'created' timestamp seems very low; regarding as unix timestamp\n",
      "Zapf NOT subset; don't know how to subset; dropped\n",
      "feat NOT subset; don't know how to subset; dropped\n",
      "morx NOT subset; don't know how to subset; dropped\n"
     ]
    }
   ],
   "source": [
    "with mplscience.style_context():\n",
    "    g = sns.clustermap(corr_mtx,\n",
    "                       cmap='coolwarm', \n",
    "                       figsize=(40,40),\n",
    "                       center=0,  \n",
    "                       vmin=-1, vmax=1,  \n",
    "                       cbar_pos=(0.02, 0.52, .03, .2),  \n",
    "                       cbar_kws={'label': 'Correlation'},\n",
    "                       linewidths=0.01,\n",
    "                       )\n",
    "    \n",
    "    clustered_data = g.data2d\n",
    "    flipped_data = clustered_data.T.iloc[::-1, ::-1]\n",
    "    \n",
    "    g.ax_heatmap.collections[0].set_array(flipped_data.values.ravel())\n",
    "    \n",
    "    g.ax_heatmap.set_yticklabels(g.ax_heatmap.get_yticklabels()[::-1])\n",
    "    g.ax_heatmap.set_xticklabels(g.ax_heatmap.get_xticklabels()[::-1])\n",
    "    \n",
    "    g.ax_row_dendrogram.invert_yaxis()\n",
    "    g.ax_col_dendrogram.invert_xaxis()\n",
    "    \n",
    "    plt.savefig(os.path.join(plot_path, 'Extended_Figure_16.pdf'), dpi=300, bbox_inches='tight')"
   ]
  },
  {
   "cell_type": "markdown",
   "metadata": {},
   "source": [
    "# 2. Adult mouse from cellxgene\n",
    "- age : 4week + over 20week\n",
    "- Allen dataset : [Link](https://cellxgene.cziscience.com/collections/31937775-0602-4e52-a799-b6acdd2bac2e)"
   ]
  },
  {
   "cell_type": "code",
   "execution_count": null,
   "metadata": {},
   "outputs": [],
   "source": [
    "adata = sc.read_h5ad(../public/)"
   ]
  },
  {
   "cell_type": "code",
   "execution_count": null,
   "metadata": {},
   "outputs": [],
   "source": []
  },
  {
   "cell_type": "code",
   "execution_count": null,
   "metadata": {},
   "outputs": [],
   "source": []
  },
  {
   "cell_type": "code",
   "execution_count": null,
   "metadata": {},
   "outputs": [],
   "source": []
  },
  {
   "cell_type": "markdown",
   "metadata": {},
   "source": [
    "# Calculate NMF in Enrique's Astrcytoma data\n",
    "- compare with authors NMF\n",
    "- only select tumor"
   ]
  },
  {
   "cell_type": "code",
   "execution_count": 7,
   "metadata": {},
   "outputs": [],
   "source": [
    "import os\n",
    "import warnings\n",
    "warnings.simplefilter('ignore')\n",
    "\n",
    "import pandas as pd\n",
    "import numpy as np\n",
    "import scanpy as sc\n",
    "\n",
    "from cnmf import cNMF, Preprocess\n",
    "from scipy.sparse import csr_matrix\n",
    "from scipy.stats import mannwhitneyu, fisher_exact, pearsonr, spearmanr\n",
    "\n",
    "import mplscience\n",
    "import matplotlib.pyplot as plt\n",
    "import seaborn as sns\n",
    "\n",
    "seed = 777"
   ]
  },
  {
   "cell_type": "code",
   "execution_count": 5,
   "metadata": {},
   "outputs": [
    {
     "data": {
      "text/plain": [
       "AnnData object with n_obs × n_vars = 72385 × 17177\n",
       "    obs: 'New_NMF_labelling'\n",
       "    var: 'original_gene_symbol'"
      ]
     },
     "execution_count": 5,
     "metadata": {},
     "output_type": "execute_result"
    }
   ],
   "source": [
    "adata = sc.read_h5ad('../public/human_astrocytoma_homologue.h5ad')\n",
    "adata"
   ]
  },
  {
   "cell_type": "code",
   "execution_count": null,
   "metadata": {},
   "outputs": [],
   "source": []
  }
 ],
 "metadata": {
  "kernelspec": {
   "display_name": "Python 3",
   "language": "python",
   "name": "python3"
  },
  "language_info": {
   "codemirror_mode": {
    "name": "ipython",
    "version": 3
   },
   "file_extension": ".py",
   "mimetype": "text/x-python",
   "name": "python",
   "nbconvert_exporter": "python",
   "pygments_lexer": "ipython3",
   "version": "3.11.10"
  }
 },
 "nbformat": 4,
 "nbformat_minor": 2
}
