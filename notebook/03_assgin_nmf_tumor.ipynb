{
 "cells": [
  {
   "cell_type": "markdown",
   "metadata": {},
   "source": [
    "- use gseapy\n",
    "- use decoupler\n",
    "- use celltypist\n",
    "- use clusterprofiler"
   ]
  },
  {
   "cell_type": "code",
   "execution_count": 1,
   "metadata": {},
   "outputs": [],
   "source": [
    "import os\n",
    "import gseapy as gp\n",
    "import pandas as pd\n",
    "import numpy as np\n",
    "from cnmf import cNMF\n",
    "import scanpy as sc"
   ]
  },
  {
   "cell_type": "markdown",
   "metadata": {},
   "source": [
    "# 1. gseapy"
   ]
  },
  {
   "cell_type": "code",
   "execution_count": 2,
   "metadata": {},
   "outputs": [],
   "source": [
    "libs = gp.get_library_name()\n",
    "cell_type_libraries = [lib for lib in libs if 'cell' in lib.lower()]"
   ]
  },
  {
   "cell_type": "code",
   "execution_count": 3,
   "metadata": {},
   "outputs": [
    {
     "name": "stdout",
     "output_type": "stream",
     "text": [
      "Available Cell Type Libraries in Enrichr:\n",
      "ARCHS4_Cell-lines\n",
      "Azimuth_Cell_Types_2021\n",
      "Cancer_Cell_Line_Encyclopedia\n",
      "CellMarker_2024\n",
      "CellMarker_Augmented_2021\n",
      "DepMap_CRISPR_GeneDependency_CellLines_2023\n",
      "DepMap_WG_CRISPR_Screens_Broad_CellLines_2019\n",
      "DepMap_WG_CRISPR_Screens_Sanger_CellLines_2019\n",
      "Descartes_Cell_Types_and_Tissue_2021\n",
      "GO_Cellular_Component_2013\n",
      "GO_Cellular_Component_2015\n",
      "GO_Cellular_Component_2017\n",
      "GO_Cellular_Component_2017b\n",
      "GO_Cellular_Component_2018\n",
      "GO_Cellular_Component_2021\n",
      "GO_Cellular_Component_2023\n",
      "NCI-60_Cancer_Cell_Lines\n",
      "SubCell_BarCode\n"
     ]
    }
   ],
   "source": [
    "print(\"Available Cell Type Libraries in Enrichr:\")\n",
    "for lib in cell_type_libraries:\n",
    "    print(lib)"
   ]
  },
  {
   "cell_type": "code",
   "execution_count": 2,
   "metadata": {},
   "outputs": [
    {
     "data": {
      "text/plain": [
       "AnnData object with n_obs × n_vars = 13249 × 12431\n",
       "    obs: 'sample_id', 'sample_info', 'age', 'sex', 'barcode', 'n_genes', 'n_genes_by_counts', 'log1p_n_genes_by_counts', 'total_counts', 'log1p_total_counts', 'pct_counts_in_top_20_genes', 'pct_counts_mt', 'pct_counts_ribo', 'pct_counts_hb', 'scDblFinder_score', 'scDblFinder_class', 'doublet_score', 'predicted_doublet', 'cell_type', 'grade', 'GFP', 'leiden_res1', 'wb_anno', 'wb_conf_score', 'cellid_prediction', 'leiden_res2', 'new_cell_type', 'old_cell_type', 'leiden', 'predicted_labels', 'conf_score', 'each_cell_type', '_scvi_batch', '_scvi_labels'\n",
       "    var: 'n_cells'\n",
       "    uns: '_scvi_manager_uuid', '_scvi_uuid', 'each_cell_type_colors', 'neighbors', 'sample_info_colors', 'umap'\n",
       "    obsm: 'X_scVI', '_scvi_extra_continuous_covs'\n",
       "    layers: 'counts', 'scvi_normalized'\n",
       "    obsp: 'connectivities', 'distances'"
      ]
     },
     "execution_count": 2,
     "metadata": {},
     "output_type": "execute_result"
    }
   ],
   "source": [
    "adata = sc.read_h5ad('../output/tumor_only/subcluster_tumor.h5ad')\n",
    "adata"
   ]
  },
  {
   "cell_type": "code",
   "execution_count": 3,
   "metadata": {},
   "outputs": [],
   "source": [
    "cnmf_obj = cNMF(output_dir = '../output/tumor_only/cNMF', name = 'subcluster')\n",
    "usage_norm, gep_scores, gep_tpm, topgenes = cnmf_obj.load_results(K=6, density_threshold=0.5)\n",
    "usage_norm.columns = [f'NMF_Module_{i}' for i in usage_norm.columns]"
   ]
  },
  {
   "cell_type": "code",
   "execution_count": 30,
   "metadata": {},
   "outputs": [
    {
     "name": "stdout",
     "output_type": "stream",
     "text": [
      "['Glial cell:Brain' 'Glial cell:Sympathetic Ganglion'\n",
      " 'Schwann cell:Intervertebral Disc']\n",
      "['Glial cell:Brain' 'Glial cell:Sympathetic Ganglion'\n",
      " 'Schwann cell:Intervertebral Disc']\n",
      "['Glial cell:Brain' 'Glial cell:Sympathetic Ganglion'\n",
      " 'Schwann cell:Intervertebral Disc']\n",
      "['Glial cell:Brain' 'Glial cell:Sympathetic Ganglion'\n",
      " 'Schwann cell:Intervertebral Disc']\n",
      "['Glial cell:Brain' 'Glial cell:Sympathetic Ganglion'\n",
      " 'Schwann cell:Intervertebral Disc']\n",
      "['Glial cell:Brain' 'Glial cell:Sympathetic Ganglion'\n",
      " 'Schwann cell:Intervertebral Disc']\n",
      "['Glial cell:Brain' 'Glial cell:Sympathetic Ganglion'\n",
      " 'Schwann cell:Intervertebral Disc']\n",
      "['Glial cell:Brain' 'Glial cell:Sympathetic Ganglion'\n",
      " 'Schwann cell:Intervertebral Disc']\n"
     ]
    }
   ],
   "source": [
    "genes_dict = {col:topgenes[col].tolist() for col in topgenes.columns}\n",
    "\n",
    "for module in genes_dict.keys():\n",
    "    enrichr_results = gp.enrichr(\n",
    "        gene_list=genes_dict[1],\n",
    "        gene_sets=['CellMarker_2024', 'CellMarker_Augmented_2021'],\n",
    "        organism='Mouse',\n",
    "        cutoff=0.05,\n",
    "        outdir = None\n",
    "    )\n",
    "    filtered_results = enrichr_results.results[enrichr_results.results['Adjusted P-value'] < 0.05]\n",
    "    print(filtered_results.sort_values('Combined Score', ascending=False)['Term'].values[:3])"
   ]
  },
  {
   "cell_type": "markdown",
   "metadata": {},
   "source": [
    "# 2. Celltypist"
   ]
  },
  {
   "cell_type": "code",
   "execution_count": 4,
   "metadata": {},
   "outputs": [
    {
     "name": "stderr",
     "output_type": "stream",
     "text": [
      "/Users/jiehoonk/DevHub/datascience/jw_rev/.venv/lib/python3.11/site-packages/anndata/_core/aligned_df.py:68: ImplicitModificationWarning: Transforming to str index.\n",
      "  warnings.warn(\"Transforming to str index.\", ImplicitModificationWarning)\n"
     ]
    }
   ],
   "source": [
    "bdata = sc.AnnData(gep_tpm)\n",
    "bdata.T.write('../output/nmf_for_ct_tumor.h5ad')"
   ]
  },
  {
   "cell_type": "code",
   "execution_count": 1,
   "metadata": {},
   "outputs": [
    {
     "name": "stderr",
     "output_type": "stream",
     "text": [
      "/Users/jiehoonk/micromamba/envs/sc_base/lib/python3.11/site-packages/anndata/utils.py:429: FutureWarning: Importing read_csv from `anndata` is deprecated. Import anndata.io.read_csv instead.\n",
      "  warnings.warn(msg, FutureWarning)\n",
      "/Users/jiehoonk/micromamba/envs/sc_base/lib/python3.11/site-packages/anndata/utils.py:429: FutureWarning: Importing read_excel from `anndata` is deprecated. Import anndata.io.read_excel instead.\n",
      "  warnings.warn(msg, FutureWarning)\n",
      "/Users/jiehoonk/micromamba/envs/sc_base/lib/python3.11/site-packages/anndata/utils.py:429: FutureWarning: Importing read_hdf from `anndata` is deprecated. Import anndata.io.read_hdf instead.\n",
      "  warnings.warn(msg, FutureWarning)\n",
      "/Users/jiehoonk/micromamba/envs/sc_base/lib/python3.11/site-packages/anndata/utils.py:429: FutureWarning: Importing read_loom from `anndata` is deprecated. Import anndata.io.read_loom instead.\n",
      "  warnings.warn(msg, FutureWarning)\n",
      "/Users/jiehoonk/micromamba/envs/sc_base/lib/python3.11/site-packages/anndata/utils.py:429: FutureWarning: Importing read_mtx from `anndata` is deprecated. Import anndata.io.read_mtx instead.\n",
      "  warnings.warn(msg, FutureWarning)\n",
      "/Users/jiehoonk/micromamba/envs/sc_base/lib/python3.11/site-packages/anndata/utils.py:429: FutureWarning: Importing read_text from `anndata` is deprecated. Import anndata.io.read_text instead.\n",
      "  warnings.warn(msg, FutureWarning)\n",
      "/Users/jiehoonk/micromamba/envs/sc_base/lib/python3.11/site-packages/anndata/utils.py:429: FutureWarning: Importing read_umi_tools from `anndata` is deprecated. Import anndata.io.read_umi_tools instead.\n",
      "  warnings.warn(msg, FutureWarning)\n"
     ]
    }
   ],
   "source": [
    "import celltypist\n",
    "import scanpy as sc\n",
    "import numpy as np"
   ]
  },
  {
   "cell_type": "code",
   "execution_count": 2,
   "metadata": {},
   "outputs": [],
   "source": [
    "adata = sc.read_h5ad('../output/nmf_for_ct_tumor.h5ad')"
   ]
  },
  {
   "cell_type": "code",
   "execution_count": 3,
   "metadata": {},
   "outputs": [
    {
     "data": {
      "text/plain": [
       "array([ 983434.05450863, 1003635.50218979, 1071729.86538846,\n",
       "        981144.72016384,  983836.75200669,  990144.48690096])"
      ]
     },
     "execution_count": 3,
     "metadata": {},
     "output_type": "execute_result"
    }
   ],
   "source": [
    "np.sum(adata.X, axis = 1)"
   ]
  },
  {
   "cell_type": "code",
   "execution_count": 4,
   "metadata": {},
   "outputs": [],
   "source": [
    "scale_factor = 10000 / adata.X.sum(axis=1).reshape(-1, 1)\n",
    "adata.X = adata.X * scale_factor\n",
    "adata.X = np.log1p(adata.X)"
   ]
  },
  {
   "cell_type": "code",
   "execution_count": 5,
   "metadata": {},
   "outputs": [
    {
     "name": "stderr",
     "output_type": "stream",
     "text": [
      "🔬 Input data has 6 cells and 12431 genes\n",
      "🔗 Matching reference genes in the model\n",
      "🧬 2972 features used for prediction\n",
      "⚖️ Scaling input data\n",
      "🖋️ Predicting labels\n",
      "✅ Prediction done!\n",
      "⚠️ Warning: the input number of cells (6) is too few to conduct proper over-clustering; no majority voting is performed\n"
     ]
    }
   ],
   "source": [
    "wb_model = celltypist.models.Model.load(model = 'Mouse_Whole_Brain.pkl')\n",
    "\n",
    "bdata = adata.copy()\n",
    "# predictions = celltypist.annotate(bdata, model = wb_model, mode = 'prob match', p_thres=0.5)\n",
    "predictions = celltypist.annotate(bdata, model = wb_model, majority_voting=True)\n",
    "predictions_adata = predictions.to_adata()\n",
    "adata.obs['wb_anno'] = predictions_adata.obs['predicted_labels']\n",
    "adata.obs['wb_conf_score'] = predictions_adata.obs['conf_score']\n",
    "\n",
    "del predictions_adata\n",
    "del bdata"
   ]
  },
  {
   "cell_type": "code",
   "execution_count": 6,
   "metadata": {},
   "outputs": [
    {
     "name": "stderr",
     "output_type": "stream",
     "text": [
      "🔬 Input data has 6 cells and 12431 genes\n",
      "🔗 Matching reference genes in the model\n",
      "🧬 4829 features used for prediction\n",
      "⚖️ Scaling input data\n",
      "🖋️ Predicting labels\n",
      "✅ Prediction done!\n",
      "⚠️ Warning: the input number of cells (6) is too few to conduct proper over-clustering; no majority voting is performed\n"
     ]
    }
   ],
   "source": [
    "wb_model = celltypist.models.Model.load(model = 'Developing_Mouse_Brain.pkl')\n",
    "\n",
    "bdata = adata.copy()\n",
    "# predictions = celltypist.annotate(bdata, model = wb_model, mode = 'prob match', p_thres=0.5)\n",
    "predictions = celltypist.annotate(bdata, model = wb_model, majority_voting=True)\n",
    "predictions_adata = predictions.to_adata()\n",
    "adata.obs['dev_wb_anno'] = predictions_adata.obs['predicted_labels']\n",
    "adata.obs['dev_wb_conf_score'] = predictions_adata.obs['conf_score']\n",
    "\n",
    "del predictions_adata\n",
    "del bdata\n"
   ]
  },
  {
   "cell_type": "code",
   "execution_count": 7,
   "metadata": {},
   "outputs": [
    {
     "data": {
      "text/html": [
       "<div>\n",
       "<style scoped>\n",
       "    .dataframe tbody tr th:only-of-type {\n",
       "        vertical-align: middle;\n",
       "    }\n",
       "\n",
       "    .dataframe tbody tr th {\n",
       "        vertical-align: top;\n",
       "    }\n",
       "\n",
       "    .dataframe thead th {\n",
       "        text-align: right;\n",
       "    }\n",
       "</style>\n",
       "<table border=\"1\" class=\"dataframe\">\n",
       "  <thead>\n",
       "    <tr style=\"text-align: right;\">\n",
       "      <th></th>\n",
       "      <th>wb_anno</th>\n",
       "      <th>wb_conf_score</th>\n",
       "      <th>dev_wb_anno</th>\n",
       "      <th>dev_wb_conf_score</th>\n",
       "    </tr>\n",
       "  </thead>\n",
       "  <tbody>\n",
       "    <tr>\n",
       "      <th>1</th>\n",
       "      <td>326 OPC NN</td>\n",
       "      <td>0.999613</td>\n",
       "      <td>Oligodendrocyte: Oligodendrocyte precursor cell</td>\n",
       "      <td>1.000000</td>\n",
       "    </tr>\n",
       "    <tr>\n",
       "      <th>2</th>\n",
       "      <td>326 OPC NN</td>\n",
       "      <td>0.999982</td>\n",
       "      <td>Oligodendrocyte: Oligodendrocyte precursor cell</td>\n",
       "      <td>1.000000</td>\n",
       "    </tr>\n",
       "    <tr>\n",
       "      <th>3</th>\n",
       "      <td>326 OPC NN</td>\n",
       "      <td>0.999266</td>\n",
       "      <td>Oligodendrocyte: Oligodendrocyte precursor cell</td>\n",
       "      <td>0.999941</td>\n",
       "    </tr>\n",
       "    <tr>\n",
       "      <th>4</th>\n",
       "      <td>330 VLMC NN</td>\n",
       "      <td>0.004256</td>\n",
       "      <td>Vascular: Vascular smooth muscle</td>\n",
       "      <td>1.000000</td>\n",
       "    </tr>\n",
       "    <tr>\n",
       "      <th>5</th>\n",
       "      <td>045 OB-STR-CTX Inh IMN</td>\n",
       "      <td>0.936748</td>\n",
       "      <td>Oligodendrocyte: Oligodendrocyte precursor cell</td>\n",
       "      <td>1.000000</td>\n",
       "    </tr>\n",
       "    <tr>\n",
       "      <th>6</th>\n",
       "      <td>045 OB-STR-CTX Inh IMN</td>\n",
       "      <td>0.994075</td>\n",
       "      <td>Oligodendrocyte: Oligodendrocyte precursor cell</td>\n",
       "      <td>1.000000</td>\n",
       "    </tr>\n",
       "  </tbody>\n",
       "</table>\n",
       "</div>"
      ],
      "text/plain": [
       "                  wb_anno  wb_conf_score  \\\n",
       "1              326 OPC NN       0.999613   \n",
       "2              326 OPC NN       0.999982   \n",
       "3              326 OPC NN       0.999266   \n",
       "4             330 VLMC NN       0.004256   \n",
       "5  045 OB-STR-CTX Inh IMN       0.936748   \n",
       "6  045 OB-STR-CTX Inh IMN       0.994075   \n",
       "\n",
       "                                       dev_wb_anno  dev_wb_conf_score  \n",
       "1  Oligodendrocyte: Oligodendrocyte precursor cell           1.000000  \n",
       "2  Oligodendrocyte: Oligodendrocyte precursor cell           1.000000  \n",
       "3  Oligodendrocyte: Oligodendrocyte precursor cell           0.999941  \n",
       "4                 Vascular: Vascular smooth muscle           1.000000  \n",
       "5  Oligodendrocyte: Oligodendrocyte precursor cell           1.000000  \n",
       "6  Oligodendrocyte: Oligodendrocyte precursor cell           1.000000  "
      ]
     },
     "execution_count": 7,
     "metadata": {},
     "output_type": "execute_result"
    }
   ],
   "source": [
    "adata.obs"
   ]
  },
  {
   "cell_type": "markdown",
   "metadata": {},
   "source": [
    "# 3. SingleR"
   ]
  },
  {
   "cell_type": "code",
   "execution_count": 8,
   "metadata": {},
   "outputs": [
    {
     "name": "stderr",
     "output_type": "stream",
     "text": [
      "cffi mode is CFFI_MODE.ANY\n",
      "R home found: /Library/Frameworks/R.framework/Resources\n",
      "R library path: \n",
      "LD_LIBRARY_PATH: \n",
      "Default options to initialize R: rpy2, --quiet, --no-save\n",
      ": Successfullly loaded R Profile\n",
      "R is already initialized. No need to initialize.\n",
      "/var/folders/9t/4v6202wn5_n62qf58gr7mf3r0000gn/T/ipykernel_39424/2488421655.py:11: DeprecationWarning: The global conversion available with activate() is deprecated and will be removed in the next major release. Use a local converter.\n",
      "  anndata2ri.activate()\n"
     ]
    }
   ],
   "source": [
    "import scanpy as sc\n",
    "import pandas as pd\n",
    "import numpy as np\n",
    "import scipy\n",
    "# R integration\n",
    "import anndata2ri\n",
    "import logging\n",
    "import rpy2.rinterface_lib.callbacks as rcb\n",
    "import rpy2.robjects as ro\n",
    "rcb.logger.setLevel(logging.ERROR)\n",
    "anndata2ri.activate()\n",
    "ro.pandas2ri.activate()\n",
    "%load_ext rpy2.ipython"
   ]
  },
  {
   "cell_type": "code",
   "execution_count": 9,
   "metadata": {},
   "outputs": [
    {
     "data": {
      "text/plain": [
       "AnnData object with n_obs × n_vars = 6 × 12431"
      ]
     },
     "execution_count": 9,
     "metadata": {},
     "output_type": "execute_result"
    }
   ],
   "source": [
    "bdata = sc.read_h5ad('../output/nmf_for_ct_tumor.h5ad')\n",
    "bdata"
   ]
  },
  {
   "cell_type": "code",
   "execution_count": 10,
   "metadata": {},
   "outputs": [
    {
     "data": {
      "text/plain": [
       "Loading required package: SummarizedExperiment\n",
       "Loading required package: MatrixGenerics\n",
       "Loading required package: matrixStats\n",
       "\n",
       "Attaching package: ‘MatrixGenerics’\n",
       "\n",
       "The following objects are masked from ‘package:matrixStats’:\n",
       "\n",
       "    colAlls, colAnyNAs, colAnys, colAvgsPerRowSet, colCollapse, colCounts, colCummaxs, colCummins,\n",
       "    colCumprods, colCumsums, colDiffs, colIQRDiffs, colIQRs, colLogSumExps, colMadDiffs, colMads, colMaxs,\n",
       "    colMeans2, colMedians, colMins, colOrderStats, colProds, colQuantiles, colRanges, colRanks, colSdDiffs,\n",
       "    colSds, colSums2, colTabulates, colVarDiffs, colVars, colWeightedMads, colWeightedMeans,\n",
       "    colWeightedMedians, colWeightedSds, colWeightedVars, rowAlls, rowAnyNAs, rowAnys, rowAvgsPerColSet,\n",
       "    rowCollapse, rowCounts, rowCummaxs, rowCummins, rowCumprods, rowCumsums, rowDiffs, rowIQRDiffs,\n",
       "    rowIQRs, rowLogSumExps, rowMadDiffs, rowMads, rowMaxs, rowMeans2, rowMedians, rowMins, rowOrderStats,\n",
       "    rowProds, rowQuantiles, rowRanges, rowRanks, rowSdDiffs, rowSds, rowSums2, rowTabulates, rowVarDiffs,\n",
       "    rowVars, rowWeightedMads, rowWeightedMeans, rowWeightedMedians, rowWeightedSds, rowWeightedVars\n",
       "\n",
       "Loading required package: GenomicRanges\n",
       "Loading required package: stats4\n",
       "Loading required package: BiocGenerics\n",
       "\n",
       "Attaching package: ‘BiocGenerics’\n",
       "\n",
       "The following objects are masked from ‘package:stats’:\n",
       "\n",
       "    IQR, mad, sd, var, xtabs\n",
       "\n",
       "The following objects are masked from ‘package:base’:\n",
       "\n",
       "    anyDuplicated, aperm, append, as.data.frame, basename, cbind, colnames, dirname, do.call, duplicated,\n",
       "    eval, evalq, Filter, Find, get, grep, grepl, intersect, is.unsorted, lapply, Map, mapply, match, mget,\n",
       "    order, paste, pmax, pmax.int, pmin, pmin.int, Position, rank, rbind, Reduce, rownames, sapply, setdiff,\n",
       "    sort, table, tapply, union, unique, unsplit, which.max, which.min\n",
       "\n",
       "Loading required package: S4Vectors\n",
       "\n",
       "Attaching package: ‘S4Vectors’\n",
       "\n",
       "The following object is masked from ‘package:utils’:\n",
       "\n",
       "    findMatches\n",
       "\n",
       "The following objects are masked from ‘package:base’:\n",
       "\n",
       "    expand.grid, I, unname\n",
       "\n",
       "Loading required package: IRanges\n",
       "Loading required package: GenomeInfoDb\n",
       "Loading required package: Biobase\n",
       "Welcome to Bioconductor\n",
       "\n",
       "    Vignettes contain introductory material; view with 'browseVignettes()'. To cite Bioconductor, see\n",
       "    'citation(\"Biobase\")', and for packages 'citation(\"pkgname\")'.\n",
       "\n",
       "\n",
       "Attaching package: ‘Biobase’\n",
       "\n",
       "The following object is masked from ‘package:MatrixGenerics’:\n",
       "\n",
       "    rowMedians\n",
       "\n",
       "The following objects are masked from ‘package:matrixStats’:\n",
       "\n",
       "    anyMissing, rowMedians\n",
       "\n",
       "\n",
       "Attaching package: ‘celldex’\n",
       "\n",
       "The following objects are masked from ‘package:SingleR’:\n",
       "\n",
       "    BlueprintEncodeData, DatabaseImmuneCellExpressionData, HumanPrimaryCellAtlasData, ImmGenData,\n",
       "    MonacoImmuneData, MouseRNAseqData, NovershternHematopoieticData\n",
       "\n",
       "snapshotDate(): 2023-10-24\n",
       "see ?celldex and browseVignettes('celldex') for documentation\n",
       "loading from cache\n",
       "see ?celldex and browseVignettes('celldex') for documentation\n",
       "loading from cache\n"
      ]
     },
     "metadata": {},
     "output_type": "display_data"
    }
   ],
   "source": [
    "%%R\n",
    "library(SingleR)\n",
    "library(celldex)\n",
    "\n",
    "ref <- celldex::MouseRNAseqData()"
   ]
  },
  {
   "cell_type": "code",
   "execution_count": 11,
   "metadata": {},
   "outputs": [],
   "source": [
    "%%R -i bdata -o out\n",
    "mat <- assay(bdata)\n",
    "pred <- SingleR(test = mat, ref = ref, labels = ref$label.fine)\n",
    "out <- data.frame(pred$labels)"
   ]
  },
  {
   "cell_type": "code",
   "execution_count": 12,
   "metadata": {},
   "outputs": [
    {
     "data": {
      "image/png": "[encoded data removed]",
      "text/plain": [
       "<IPython.core.display.Image object>"
      ]
     },
     "metadata": {},
     "output_type": "display_data"
    }
   ],
   "source": [
    "%%R\n",
    "plotScoreHeatmap(pred)"
   ]
  },
  {
   "cell_type": "code",
   "execution_count": 13,
   "metadata": {},
   "outputs": [
    {
     "data": {
      "text/html": [
       "<div>\n",
       "<style scoped>\n",
       "    .dataframe tbody tr th:only-of-type {\n",
       "        vertical-align: middle;\n",
       "    }\n",
       "\n",
       "    .dataframe tbody tr th {\n",
       "        vertical-align: top;\n",
       "    }\n",
       "\n",
       "    .dataframe thead th {\n",
       "        text-align: right;\n",
       "    }\n",
       "</style>\n",
       "<table border=\"1\" class=\"dataframe\">\n",
       "  <thead>\n",
       "    <tr style=\"text-align: right;\">\n",
       "      <th></th>\n",
       "      <th>wb_anno</th>\n",
       "      <th>wb_conf_score</th>\n",
       "      <th>dev_wb_anno</th>\n",
       "      <th>dev_wb_conf_score</th>\n",
       "      <th>singleR_anno</th>\n",
       "    </tr>\n",
       "  </thead>\n",
       "  <tbody>\n",
       "    <tr>\n",
       "      <th>1</th>\n",
       "      <td>326 OPC NN</td>\n",
       "      <td>0.999613</td>\n",
       "      <td>Oligodendrocyte: Oligodendrocyte precursor cell</td>\n",
       "      <td>1.000000</td>\n",
       "      <td>Neurons</td>\n",
       "    </tr>\n",
       "    <tr>\n",
       "      <th>2</th>\n",
       "      <td>326 OPC NN</td>\n",
       "      <td>0.999982</td>\n",
       "      <td>Oligodendrocyte: Oligodendrocyte precursor cell</td>\n",
       "      <td>1.000000</td>\n",
       "      <td>Neurons</td>\n",
       "    </tr>\n",
       "    <tr>\n",
       "      <th>3</th>\n",
       "      <td>326 OPC NN</td>\n",
       "      <td>0.999266</td>\n",
       "      <td>Oligodendrocyte: Oligodendrocyte precursor cell</td>\n",
       "      <td>0.999941</td>\n",
       "      <td>Oligodendrocytes</td>\n",
       "    </tr>\n",
       "    <tr>\n",
       "      <th>4</th>\n",
       "      <td>330 VLMC NN</td>\n",
       "      <td>0.004256</td>\n",
       "      <td>Vascular: Vascular smooth muscle</td>\n",
       "      <td>1.000000</td>\n",
       "      <td>NPCs</td>\n",
       "    </tr>\n",
       "    <tr>\n",
       "      <th>5</th>\n",
       "      <td>045 OB-STR-CTX Inh IMN</td>\n",
       "      <td>0.936748</td>\n",
       "      <td>Oligodendrocyte: Oligodendrocyte precursor cell</td>\n",
       "      <td>1.000000</td>\n",
       "      <td>NPCs</td>\n",
       "    </tr>\n",
       "    <tr>\n",
       "      <th>6</th>\n",
       "      <td>045 OB-STR-CTX Inh IMN</td>\n",
       "      <td>0.994075</td>\n",
       "      <td>Oligodendrocyte: Oligodendrocyte precursor cell</td>\n",
       "      <td>1.000000</td>\n",
       "      <td>OPCs</td>\n",
       "    </tr>\n",
       "  </tbody>\n",
       "</table>\n",
       "</div>"
      ],
      "text/plain": [
       "                  wb_anno  wb_conf_score  \\\n",
       "1              326 OPC NN       0.999613   \n",
       "2              326 OPC NN       0.999982   \n",
       "3              326 OPC NN       0.999266   \n",
       "4             330 VLMC NN       0.004256   \n",
       "5  045 OB-STR-CTX Inh IMN       0.936748   \n",
       "6  045 OB-STR-CTX Inh IMN       0.994075   \n",
       "\n",
       "                                       dev_wb_anno  dev_wb_conf_score  \\\n",
       "1  Oligodendrocyte: Oligodendrocyte precursor cell           1.000000   \n",
       "2  Oligodendrocyte: Oligodendrocyte precursor cell           1.000000   \n",
       "3  Oligodendrocyte: Oligodendrocyte precursor cell           0.999941   \n",
       "4                 Vascular: Vascular smooth muscle           1.000000   \n",
       "5  Oligodendrocyte: Oligodendrocyte precursor cell           1.000000   \n",
       "6  Oligodendrocyte: Oligodendrocyte precursor cell           1.000000   \n",
       "\n",
       "       singleR_anno  \n",
       "1           Neurons  \n",
       "2           Neurons  \n",
       "3  Oligodendrocytes  \n",
       "4              NPCs  \n",
       "5              NPCs  \n",
       "6              OPCs  "
      ]
     },
     "execution_count": 13,
     "metadata": {},
     "output_type": "execute_result"
    }
   ],
   "source": [
    "adata.obs['singleR_anno'] = out['pred.labels']\n",
    "adata.obs"
   ]
  },
  {
   "cell_type": "code",
   "execution_count": 14,
   "metadata": {},
   "outputs": [
    {
     "data": {
      "text/html": [
       "<div>\n",
       "<style scoped>\n",
       "    .dataframe tbody tr th:only-of-type {\n",
       "        vertical-align: middle;\n",
       "    }\n",
       "\n",
       "    .dataframe tbody tr th {\n",
       "        vertical-align: top;\n",
       "    }\n",
       "\n",
       "    .dataframe thead th {\n",
       "        text-align: right;\n",
       "    }\n",
       "</style>\n",
       "<table border=\"1\" class=\"dataframe\">\n",
       "  <thead>\n",
       "    <tr style=\"text-align: right;\">\n",
       "      <th></th>\n",
       "      <th>wb_anno</th>\n",
       "      <th>singleR_anno</th>\n",
       "    </tr>\n",
       "  </thead>\n",
       "  <tbody>\n",
       "    <tr>\n",
       "      <th>1</th>\n",
       "      <td>326 OPC NN</td>\n",
       "      <td>Neurons</td>\n",
       "    </tr>\n",
       "    <tr>\n",
       "      <th>2</th>\n",
       "      <td>326 OPC NN</td>\n",
       "      <td>Neurons</td>\n",
       "    </tr>\n",
       "    <tr>\n",
       "      <th>3</th>\n",
       "      <td>326 OPC NN</td>\n",
       "      <td>Oligodendrocytes</td>\n",
       "    </tr>\n",
       "    <tr>\n",
       "      <th>4</th>\n",
       "      <td>330 VLMC NN</td>\n",
       "      <td>NPCs</td>\n",
       "    </tr>\n",
       "    <tr>\n",
       "      <th>5</th>\n",
       "      <td>045 OB-STR-CTX Inh IMN</td>\n",
       "      <td>NPCs</td>\n",
       "    </tr>\n",
       "    <tr>\n",
       "      <th>6</th>\n",
       "      <td>045 OB-STR-CTX Inh IMN</td>\n",
       "      <td>OPCs</td>\n",
       "    </tr>\n",
       "  </tbody>\n",
       "</table>\n",
       "</div>"
      ],
      "text/plain": [
       "                  wb_anno      singleR_anno\n",
       "1              326 OPC NN           Neurons\n",
       "2              326 OPC NN           Neurons\n",
       "3              326 OPC NN  Oligodendrocytes\n",
       "4             330 VLMC NN              NPCs\n",
       "5  045 OB-STR-CTX Inh IMN              NPCs\n",
       "6  045 OB-STR-CTX Inh IMN              OPCs"
      ]
     },
     "execution_count": 14,
     "metadata": {},
     "output_type": "execute_result"
    }
   ],
   "source": [
    "adata.obs[['wb_anno', 'singleR_anno']]"
   ]
  },
  {
   "cell_type": "code",
   "execution_count": null,
   "metadata": {},
   "outputs": [],
   "source": []
  }
 ],
 "metadata": {
  "kernelspec": {
   "display_name": "Python 3",
   "language": "python",
   "name": "python3"
  },
  "language_info": {
   "codemirror_mode": {
    "name": "ipython",
    "version": 3
   },
   "file_extension": ".py",
   "mimetype": "text/x-python",
   "name": "python",
   "nbconvert_exporter": "python",
   "pygments_lexer": "ipython3",
   "version": "3.11.10"
  }
 },
 "nbformat": 4,
 "nbformat_minor": 2
}
